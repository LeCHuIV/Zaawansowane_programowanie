{
  "nbformat": 4,
  "nbformat_minor": 0,
  "metadata": {
    "colab": {
      "name": "Untitled0.ipynb",
      "provenance": []
    },
    "kernelspec": {
      "name": "python3",
      "display_name": "Python 3"
    },
    "language_info": {
      "name": "python"
    }
  },
  "cells": [
    {
      "cell_type": "code",
      "execution_count": 4,
      "metadata": {
        "colab": {
          "base_uri": "https://localhost:8080/"
        },
        "id": "Q5jLvH5Ki3PK",
        "outputId": "7fab16aa-f6b3-4567-8632-7d5435ef3e6f"
      },
      "outputs": [
        {
          "output_type": "stream",
          "name": "stdout",
          "text": [
            "Reading package lists... Done\n",
            "Building dependency tree       \n",
            "Reading state information... Done\n",
            "tesseract-ocr is already the newest version (4.00~git2288-10f4998a-2).\n",
            "0 upgraded, 0 newly installed, 0 to remove and 37 not upgraded.\n",
            "Requirement already satisfied: pytesseract in /usr/local/lib/python3.7/dist-packages (0.3.8)\n",
            "Requirement already satisfied: Pillow in /usr/local/lib/python3.7/dist-packages (from pytesseract) (7.1.2)\n"
          ]
        }
      ],
      "source": [
        "!apt-get  install tesseract-ocr\n",
        "!pip install pytesseract\n",
        "def read_text_from_img(img):\n",
        "  return pytesseract.image_to_string(cv2.cvtColor(img, cv2.COLOR_BGR2RGB))"
      ]
    },
    {
      "cell_type": "code",
      "source": [
        "import cv2\n",
        "import pytesseract\n",
        "from google.colab.patches import cv2_imshow\n",
        "\n",
        "#read_text_from_img(cv2.imread('/content/tekst1.png'))\n",
        "print(read_text_from_img(cv2.imread('/content/tekst1.png')))\n",
        "print(read_text_from_img(cv2.imread('/content/teskt2.png')))\n",
        "print(read_text_from_img(cv2.imread('/content/teskt3.png')))\n",
        "print(read_text_from_img(cv2.imread('/content/teskt4.png')))\n",
        "print(read_text_from_img(cv2.imread('/content/teskt5.png')))\n",
        "img = cv2.imread('/content/tekst1.png')\n",
        "img2 = cv2.cvtColor(img, cv2.COLOR_BGR2GRAY)\n",
        "wynik = cv2.threshold(cv2.GaussianBlur(img2, (5, 5), 0), 0, 255, cv2.THRESH_BINARY + cv2.THRESH_OTSU)[1]\n",
        "\n",
        "cv2_imshow(wynik)\n",
        "print(read_text_from_img(wynik))\n",
        "wynik1 = cv2.threshold(cv2.bilateralFilter(img2, 5, 75, 75), 0, 255, cv2.THRESH_BINARY + cv2.THRESH_OTSU)[1]\n",
        "cv2_imshow(wynik1)\n",
        "print(read_text_from_img(wynik1))\n",
        "wynik2 = cv2.threshold(cv2.medianBlur(img2, 3), 0, 255, cv2.THRESH_BINARY + cv2.THRESH_OTSU)[1]\n",
        "cv2_imshow(wynik2)\n",
        "print(read_text_from_img(wynik2))\n",
        "wynik3 = cv2.adaptiveThreshold(cv2.GaussianBlur(img2, (5, 5), 0), 255, cv2.ADAPTIVE_THRESH_GAUSSIAN_C, cv2.THRESH_BINARY, 31, 2)\n",
        "cv2_imshow(wynik3)\n",
        "print(read_text_from_img(wynik3))\n",
        "wynik4 = cv2.adaptiveThreshold(cv2.bilateralFilter(img2, 9, 75, 75), 255, cv2.ADAPTIVE_THRESH_GAUSSIAN_C, cv2.THRESH_BINARY, 31, 2)\n",
        "cv2_imshow(wynik4)\n",
        "print(read_text_from_img(wynik4))\n",
        "wynik5 = cv2.adaptiveThreshold(cv2.medianBlur(img2, 3), 255, cv2.ADAPTIVE_THRESH_GAUSSIAN_C, cv2.THRESH_BINARY, 31, 2)\n",
        "cv2_imshow(wynik5)\n",
        "print(read_text_from_img(wynik5))"
      ],
      "metadata": {
        "id": "zc4067EbjNpc",
        "colab": {
          "base_uri": "https://localhost:8080/",
          "height": 1000
        },
        "outputId": "964de778-b656-4340-c445-d5c5571c0574"
      },
      "execution_count": 18,
      "outputs": [
        {
          "output_type": "stream",
          "name": "stdout",
          "text": [
            "1. Opis firmy.\n",
            "\n",
            "Firma: Krzak zajmujaca sie wdrozeniami systemow ERP\n",
            "\f\n",
            "Dziata! 123\n",
            "\f\n",
            "Dziata! 123\n",
            "\f\n",
            "Dziata! 123\n",
            "\f\n",
            "Dziata! 123\n",
            "\f\n"
          ]
        },
        {
          "output_type": "display_data",
          "data": {
            "image/png": "[encoded data removed]",
            "text/plain": [
              "<PIL.Image.Image image mode=L size=817x122 at 0x7F393447E550>"
            ]
          },
          "metadata": {}
        },
        {
          "output_type": "stream",
          "name": "stdout",
          "text": [
            "1. Opis firmy.\n",
            "Firma: Krzak zajmujaca sie wdroZeniami systemow ERP\n",
            "\f\n"
          ]
        },
        {
          "output_type": "display_data",
          "data": {
            "image/png": "[encoded data removed]",
            "text/plain": [
              "<PIL.Image.Image image mode=L size=817x122 at 0x7F393447E8D0>"
            ]
          },
          "metadata": {}
        },
        {
          "output_type": "stream",
          "name": "stdout",
          "text": [
            "1. Opis firmy.\n",
            "\n",
            "Firma: Krzak zajmujaca sie wdrozeniami systemow ERP\n",
            "\f\n"
          ]
        },
        {
          "output_type": "display_data",
          "data": {
            "image/png": "[encoded data removed]",
            "text/plain": [
              "<PIL.Image.Image image mode=L size=817x122 at 0x7F3934447150>"
            ]
          },
          "metadata": {}
        },
        {
          "output_type": "stream",
          "name": "stdout",
          "text": [
            "4. Opis firmy.\n",
            "\n",
            "Firra Keak cayrrujaca sic wd-o7enia 71 systemsw ERP\n",
            "\f\n"
          ]
        },
        {
          "output_type": "display_data",
          "data": {
            "image/png": "[encoded data removed]",
            "text/plain": [
              "<PIL.Image.Image image mode=L size=817x122 at 0x7F3934447250>"
            ]
          },
          "metadata": {}
        },
        {
          "output_type": "stream",
          "name": "stdout",
          "text": [
            "1. Opis firmy.\n",
            "Firma: Krzak zajmujaca sie wdroZenlami systemow ERP\n",
            "\f\n"
          ]
        },
        {
          "output_type": "display_data",
          "data": {
            "image/png": "[encoded data removed]",
            "text/plain": [
              "<PIL.Image.Image image mode=L size=817x122 at 0x7F39344D7890>"
            ]
          },
          "metadata": {}
        },
        {
          "output_type": "stream",
          "name": "stdout",
          "text": [
            "1. Opis firmy.\n",
            "\n",
            "Firma: Krzak zajmujaca si¢ wdrozeniami systemow ERP\n",
            "\f\n"
          ]
        },
        {
          "output_type": "display_data",
          "data": {
            "image/png": "[encoded data removed]",
            "text/plain": [
              "<PIL.Image.Image image mode=L size=817x122 at 0x7F39344FE5D0>"
            ]
          },
          "metadata": {}
        },
        {
          "output_type": "stream",
          "name": "stdout",
          "text": [
            "1. Opis firmy.\n",
            "\n",
            "Firma; Krzak zajmujaca sig wdrodeniami systemow ERP\n",
            "\f\n"
          ]
        }
      ]
    }
  ]
}